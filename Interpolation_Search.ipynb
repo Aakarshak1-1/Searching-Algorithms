{
 "cells": [
  {
   "cell_type": "code",
   "execution_count": 20,
   "metadata": {},
   "outputs": [
    {
     "name": "stdout",
     "output_type": "stream",
     "text": [
      "62\n"
     ]
    }
   ],
   "source": [
    "def interpolation_search(lst, target):\n",
    "    start, end, pos = 0, len(lst) - 1, 0\n",
    "\n",
    "    while start <= end:\n",
    "        # Interpolation formula\n",
    "        if (target in lst[pos:]):\n",
    "            pos = start + ((target - lst[start]) *\n",
    "                           (end - start)) // (lst[end] - lst[start])\n",
    "        else:\n",
    "            return 'Element does not exist'\n",
    "        if lst[pos] == target:\n",
    "            return lst[pos]\n",
    "        elif lst[pos] > target:\n",
    "            end = pos - 1\n",
    "        else:\n",
    "            start = pos + 1\n",
    "\n",
    "\n",
    "result = interpolation_search([10, 22, 30, 47, 51, 62, 70, 80], 62)\n",
    "print(result)"
   ]
  }
 ],
 "metadata": {
  "kernelspec": {
   "display_name": "Python 3",
   "language": "python",
   "name": "python3"
  },
  "language_info": {
   "codemirror_mode": {
    "name": "ipython",
    "version": 3
   },
   "file_extension": ".py",
   "mimetype": "text/x-python",
   "name": "python",
   "nbconvert_exporter": "python",
   "pygments_lexer": "ipython3",
   "version": "3.12.1"
  }
 },
 "nbformat": 4,
 "nbformat_minor": 2
}
