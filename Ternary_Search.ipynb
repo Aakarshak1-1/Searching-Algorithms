{
 "cells": [
  {
   "cell_type": "code",
   "execution_count": 1,
   "metadata": {},
   "outputs": [
    {
     "name": "stdout",
     "output_type": "stream",
     "text": [
      "Element does not exist\n"
     ]
    }
   ],
   "source": [
    "def ternary_search(lst, target):\n",
    "    start, end = 0, len(lst) - 1\n",
    "\n",
    "    while start <= end:\n",
    "    # Formula for ternary search\n",
    "        # First mid point\n",
    "        mid_index_1 = start + (end - start) // 3\n",
    "        mid_elem_1 = lst[mid_index_1]\n",
    "\n",
    "        # Second mid point\n",
    "        mid_index_2 = end - (end - start) // 3\n",
    "        mid_elem_2 = lst[mid_index_2]\n",
    "\n",
    "        if mid_elem_1 == target:\n",
    "            return mid_elem_1\n",
    "        if mid_elem_2 == target:\n",
    "            return mid_elem_2\n",
    "\n",
    "        if target > mid_elem_2:\n",
    "            start = mid_index_2+1\n",
    "        elif target < mid_elem_1:\n",
    "            end = mid_index_1-1\n",
    "        else:\n",
    "            start = mid_index_1+1\n",
    "            end = mid_index_2-1\n",
    "\n",
    "    return 'Element does not exist'\n",
    "\n",
    "\n",
    "result = ternary_search([10, 20, 30, 40, 80], 45)\n",
    "print(result)"
   ]
  }
 ],
 "metadata": {
  "kernelspec": {
   "display_name": "Python 3",
   "language": "python",
   "name": "python3"
  },
  "language_info": {
   "codemirror_mode": {
    "name": "ipython",
    "version": 3
   },
   "file_extension": ".py",
   "mimetype": "text/x-python",
   "name": "python",
   "nbconvert_exporter": "python",
   "pygments_lexer": "ipython3",
   "version": "3.12.1"
  }
 },
 "nbformat": 4,
 "nbformat_minor": 2
}
