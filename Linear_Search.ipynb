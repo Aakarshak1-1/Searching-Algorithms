{
 "cells": [
  {
   "cell_type": "markdown",
   "metadata": {},
   "source": [
    "Linear Search"
   ]
  },
  {
   "cell_type": "code",
   "execution_count": 1,
   "metadata": {},
   "outputs": [
    {
     "name": "stdout",
     "output_type": "stream",
     "text": [
      "No element Exists\n"
     ]
    }
   ],
   "source": [
    "lst=[10,1,2,5,9]\n",
    "target=0\n",
    "def linear_search(lst,target):\n",
    "    for i in lst:\n",
    "        if(i==target):\n",
    "            return i\n",
    "    return -1\n",
    "print('No element Exists') if(linear_search(lst,target))==-1 else linear_search(lst,target) "
   ]
  }
 ],
 "metadata": {
  "kernelspec": {
   "display_name": "Python 3",
   "language": "python",
   "name": "python3"
  },
  "language_info": {
   "codemirror_mode": {
    "name": "ipython",
    "version": 3
   },
   "file_extension": ".py",
   "mimetype": "text/x-python",
   "name": "python",
   "nbconvert_exporter": "python",
   "pygments_lexer": "ipython3",
   "version": "3.12.1"
  }
 },
 "nbformat": 4,
 "nbformat_minor": 2
}
