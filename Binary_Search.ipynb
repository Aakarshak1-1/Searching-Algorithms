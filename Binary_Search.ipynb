{
 "cells": [
  {
   "cell_type": "code",
   "execution_count": 18,
   "metadata": {},
   "outputs": [
    {
     "name": "stdout",
     "output_type": "stream",
     "text": [
      "27\n"
     ]
    }
   ],
   "source": [
    "def binary_search(lst, target):\n",
    "    start, end = 0, len(lst) - 1\n",
    "\n",
    "    while start <= end:\n",
    "        mid_index = (start + end) // 2\n",
    "        mid_elem = lst[mid_index]\n",
    "\n",
    "        if mid_elem == target:\n",
    "            return mid_elem\n",
    "        elif mid_elem < target:\n",
    "            start = mid_index + 1\n",
    "        else:\n",
    "            end = mid_index - 1\n",
    "\n",
    "    return 'Element does not exist'\n",
    "\n",
    "\n",
    "result = binary_search([8, 10, 12, 27, 34, 42], 27)\n",
    "print(result)"
   ]
  }
 ],
 "metadata": {
  "kernelspec": {
   "display_name": "Python 3",
   "language": "python",
   "name": "python3"
  },
  "language_info": {
   "codemirror_mode": {
    "name": "ipython",
    "version": 3
   },
   "file_extension": ".py",
   "mimetype": "text/x-python",
   "name": "python",
   "nbconvert_exporter": "python",
   "pygments_lexer": "ipython3",
   "version": "3.12.1"
  }
 },
 "nbformat": 4,
 "nbformat_minor": 2
}
