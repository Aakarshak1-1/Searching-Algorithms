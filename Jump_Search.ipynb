{
 "cells": [
  {
   "cell_type": "code",
   "execution_count": 47,
   "metadata": {},
   "outputs": [
    {
     "name": "stdout",
     "output_type": "stream",
     "text": [
      "2 4\n",
      "4 6\n",
      "4\n",
      "50\n"
     ]
    }
   ],
   "source": [
    "import math\n",
    "\n",
    "\n",
    "def jump_search(lst, target):\n",
    "    n = len(lst)\n",
    "    m = int(math.sqrt(n))\n",
    "    curr, next = 0, m\n",
    "    while (next <= n-1 and lst[next] <= target):\n",
    "        curr += m\n",
    "        next += m\n",
    "    for i in range(curr, next):\n",
    "        print(i)\n",
    "        if lst[i] == target:\n",
    "            return lst[i]\n",
    "    return 'Element doesnt exists'\n",
    "\n",
    "\n",
    "result = jump_search([10, 20, 30, 40, 50, 60, 70, 80], 50)\n",
    "print(result)"
   ]
  },
  {
   "cell_type": "code",
   "execution_count": null,
   "metadata": {},
   "outputs": [],
   "source": []
  },
  {
   "cell_type": "code",
   "execution_count": 4,
   "metadata": {},
   "outputs": [
    {
     "data": {
      "text/plain": [
       "2"
      ]
     },
     "execution_count": 4,
     "metadata": {},
     "output_type": "execute_result"
    }
   ],
   "source": [
    "import math\n",
    "int(math.sqrt(8))"
   ]
  }
 ],
 "metadata": {
  "kernelspec": {
   "display_name": "Python 3",
   "language": "python",
   "name": "python3"
  },
  "language_info": {
   "codemirror_mode": {
    "name": "ipython",
    "version": 3
   },
   "file_extension": ".py",
   "mimetype": "text/x-python",
   "name": "python",
   "nbconvert_exporter": "python",
   "pygments_lexer": "ipython3",
   "version": "3.12.1"
  }
 },
 "nbformat": 4,
 "nbformat_minor": 2
}
